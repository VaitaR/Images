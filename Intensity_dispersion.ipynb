{
 "cells": [
  {
   "cell_type": "code",
   "execution_count": 1,
   "metadata": {},
   "outputs": [],
   "source": [
    "%matplotlib inline\n",
    "from PIL import Image, ImageDraw\n",
    "import numpy as np\n",
    "from skimage.io import imread, imshow, imsave\n",
    "import numpy as np\n",
    "from scipy import misc\n",
    "import imageio\n",
    "import matplotlib.pyplot as plt #построение графиков"
   ]
  },
  {
   "cell_type": "code",
   "execution_count": 2,
   "metadata": {},
   "outputs": [
    {
     "name": "stdout",
     "output_type": "stream",
     "text": [
      "23.67431001781623 28.636794208789027 38.87941907224858\n"
     ]
    }
   ],
   "source": [
    "im = imageio.imread('1.jpg') #Считываем изображение\n",
    "width = im.shape[0] # Определяем ширину\n",
    "height = im.shape[1] # Определяем высоту\n",
    "#imshow(im[:, :, :]) # Выгружаем изображение\n",
    "#im[:,:] # Выгружаем значения пикселей\n",
    "Intensity_values_red = [] # Пустой список, куда пойдут значения интенсивностей красного канала\n",
    "Intensity_values_green = [] # Пустой список, куда пойдут значения интенсивностей зелёного канала\n",
    "Intensity_values_blue = [] # Пустой список, куда пойдут значения интенсивностей синего канала\n",
    "for i in range(width):\n",
    "    for j in range(height):\n",
    "        Intensity_values_red.append(im[i,j][0]) # Вставляем в список значения интенсивностей красного канала\n",
    "        Intensity_values_green.append(im[i,j][1]) # Вставляем в список значения интенсивностей зелёного канала\n",
    "        Intensity_values_blue.append(im[i,j][2]) # Вставляем в список значения интенсивностей синего канала\n",
    "#np.var(Intensity_values_red)**0.5\n",
    "#np.var(Intensity_values_green)**0.5\n",
    "#np.var(Intensity_values_blue)**0.5\n",
    "print(np.var(Intensity_values_red)**0.5, np.var(Intensity_values_green)**0.5, np.var(Intensity_values_blue)**0.5)"
   ]
  },
  {
   "cell_type": "code",
   "execution_count": null,
   "metadata": {},
   "outputs": [],
   "source": []
  }
 ],
 "metadata": {
  "kernelspec": {
   "display_name": "Python 3",
   "language": "python",
   "name": "python3"
  },
  "language_info": {
   "codemirror_mode": {
    "name": "ipython",
    "version": 3
   },
   "file_extension": ".py",
   "mimetype": "text/x-python",
   "name": "python",
   "nbconvert_exporter": "python",
   "pygments_lexer": "ipython3",
   "version": "3.7.4"
  }
 },
 "nbformat": 4,
 "nbformat_minor": 2
}
